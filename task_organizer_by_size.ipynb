{
 "cells": [
  {
   "cell_type": "code",
   "execution_count": null,
   "id": "9a22ffb0",
   "metadata": {},
   "outputs": [
    {
     "name": "stdout",
     "output_type": "stream",
     "text": [
      "{18799760: ['files/18mb.txt'], 12704109: ['files/12mb.pdf'], 8558408: ['files/8mb.mp4'], 7497381: ['files/7mb.mp4'], 4200050: ['files/4mb.xml'], 3151335: ['files/3mb-jpg-example-file.jpg'], 1155582: ['files/1mb-jpg-example-file.jpg'], 112: ['files/file_distribution.json']}\n"
     ]
    }
   ],
   "source": [
    "import os\n",
    "import json\n",
    "\n",
    "PATH = r\"C:\\Users\\hayk.hambardzumyan\\Desktop\\python\\task_organizer\\files\"\n",
    "\n",
    "files_lst = os.listdir(PATH)\n",
    "\n",
    "\n",
    "json_f_name = \"file_sizes.json\"\n",
    "\n",
    "def readable_size(size):\n",
    "    for unit in ['B', 'KB', 'MB', 'GB', 'TB']:\n",
    "        if size < 1024:\n",
    "            return f\"{size:.2f} {unit}\"\n",
    "        size /= 1024\n",
    "    return f\"{size:.2f} PB\"\n",
    "\n",
    "files_dict = {}\n",
    "\n",
    "\n",
    "for file in files_lst:\n",
    "    \n",
    "    file_size = os.path.getsize(f\"files/{file}\")\n",
    "\n",
    "    files_dict[file_size] = []\n",
    "    if file_size in files_dict:\n",
    "        files_dict[file_size].append(f\"files/{file}\")\n",
    "    else:\n",
    "        files_dict[file_size] = f\"files/{file}\"\n",
    "\n",
    "sorted_files_dict = dict(sorted(files_dict.items(), reverse=True, key=lambda item: item[0]))\n",
    "\n",
    "\n",
    "\n"
   ]
  },
  {
   "cell_type": "code",
   "execution_count": null,
   "id": "dce495c2",
   "metadata": {},
   "outputs": [],
   "source": [
    "\n"
   ]
  },
  {
   "cell_type": "code",
   "execution_count": 129,
   "id": "e3ceb982",
   "metadata": {},
   "outputs": [
    {
     "name": "stdout",
     "output_type": "stream",
     "text": [
      "18799760\n",
      "12704109\n",
      "8558408\n",
      "7497381\n",
      "4200050\n",
      "3151335\n",
      "1155582\n",
      "112\n",
      "{18799760: ['files/18mb.txt'], 12704109: ['files/12mb.pdf'], 8558408: ['files/8mb.mp4'], 7497381: ['files/7mb.mp4'], 4200050: ['files/4mb.xml'], 3151335: ['files/3mb-jpg-example-file.jpg'], 1155582: ['files/1mb-jpg-example-file.jpg'], 112: ['files/file_distribution.json']}\n",
      "['17.93 MB', '12.12 MB', '8.16 MB', '7.15 MB', '4.01 MB', '3.01 MB', '1.1 MB', '112 B']\n"
     ]
    }
   ],
   "source": [
    "r_sorted_files_dict = []\n",
    "for key in sorted_files_dict.keys():\n",
    "    print(key)\n",
    "    if key < 1024:\n",
    "        r_file_size = f\"{key} B\"\n",
    "        \n",
    "    elif key < (1024 ** 2):\n",
    "        r_file_size = f\"{round((key/ 1024), 2)}  KB\"\n",
    "    \n",
    "    elif key < (1024 **3):\n",
    "        r_file_size = f\"{round((key/ (1024 ** 2 )), 2)} MB\"\n",
    "  \n",
    "    elif key < (1024 **4):\n",
    "        r_file_size = f\"{round((key/ (1024 ** 3)), 2)} MB\"\n",
    "    \n",
    "    r_sorted_files_dict.append(r_file_size)\n",
    "    \n",
    "    \n",
    "print(sorted_files_dict)\n",
    "print(r_sorted_files_dict)"
   ]
  },
  {
   "cell_type": "code",
   "execution_count": null,
   "id": "d5a2c738",
   "metadata": {},
   "outputs": [],
   "source": []
  },
  {
   "cell_type": "code",
   "execution_count": 130,
   "id": "41d8c8d9",
   "metadata": {},
   "outputs": [],
   "source": [
    "r_sorted_files_dict = {}\n",
    "for size, path in sorted_files_dict.items():\n",
    "    read_size = readable_size(size)\n",
    "    r_sorted_files_dict[read_size] = path\n",
    "    "
   ]
  },
  {
   "cell_type": "code",
   "execution_count": 132,
   "id": "73be116f",
   "metadata": {},
   "outputs": [],
   "source": [
    "\n",
    "json_string = json.dumps(r_sorted_files_dict, indent=len(sorted_files_dict))  \n",
    "\n",
    "fp = os.path.join(PATH, json_f_name)\n",
    "with open(fp, \"w\") as file:\n",
    "    file.write(json_string)"
   ]
  }
 ],
 "metadata": {
  "kernelspec": {
   "display_name": "Python 3",
   "language": "python",
   "name": "python3"
  },
  "language_info": {
   "codemirror_mode": {
    "name": "ipython",
    "version": 3
   },
   "file_extension": ".py",
   "mimetype": "text/x-python",
   "name": "python",
   "nbconvert_exporter": "python",
   "pygments_lexer": "ipython3",
   "version": "3.13.3"
  }
 },
 "nbformat": 4,
 "nbformat_minor": 5
}
