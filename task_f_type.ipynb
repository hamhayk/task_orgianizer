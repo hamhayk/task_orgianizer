{
 "cells": [
  {
   "cell_type": "code",
   "execution_count": null,
   "id": "3b3d4b51",
   "metadata": {},
   "outputs": [],
   "source": [
    "import os\n",
    "import shutil\n",
    "\n",
    "PATH = r\"C:\\Users\\hayk.hambardzumyan\\Desktop\\python\\task_organizer\\files\"\n",
    "\n",
    "files_lst = os.listdir(PATH)\n",
    "\n",
    "def create_folder():\n",
    "    for file in files_lst:\n",
    "        f_name, f_extension = os.path.splitext(file)\n",
    "        if f_extension == \".jpg\":\n",
    "            folder_name = \"Images\"\n",
    "        elif f_extension == \".pdf\" or f_extension == \".docx\":\n",
    "            folder_name = \"Documents\"\n",
    "        elif f_extension == \".mp4\":\n",
    "            folder_name = \"Videos\"\n",
    "        elif f_extension == \".txt\":\n",
    "            folder_name = \"Text files\"\n",
    "        elif f_extension == \".json\":\n",
    "            folder_name = \"Json File\"\n",
    "        elif f_extension == \".xml\":\n",
    "            folder_name = \"XML File\"\n",
    "        os.makedirs(f\"{PATH}/{folder_name}\", exist_ok=True)\n",
    "        source = f\"{PATH}/{file}\"   \n",
    "\n",
    "        destination = f\"{PATH}/{folder_name}/{file}\"\n",
    "\n",
    "        shutil.move(source, destination)\n",
    "  \n",
    "create_folder()\n",
    "\n",
    "\n"
   ]
  }
 ],
 "metadata": {
  "kernelspec": {
   "display_name": "Python 3",
   "language": "python",
   "name": "python3"
  },
  "language_info": {
   "codemirror_mode": {
    "name": "ipython",
    "version": 3
   },
   "file_extension": ".py",
   "mimetype": "text/x-python",
   "name": "python",
   "nbconvert_exporter": "python",
   "pygments_lexer": "ipython3",
   "version": "3.13.3"
  }
 },
 "nbformat": 4,
 "nbformat_minor": 5
}
