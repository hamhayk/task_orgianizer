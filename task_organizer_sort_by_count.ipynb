{
 "cells": [
  {
   "cell_type": "code",
   "execution_count": 18,
   "id": "7ef4993a",
   "metadata": {},
   "outputs": [],
   "source": [
    "import os\n",
    "import json\n",
    "\n",
    "files_lst = os.listdir(\"files\")\n",
    "\n",
    "PATH = r\"C:\\Users\\hayk.hambardzumyan\\Desktop\\python\\task_organizer\\files\"\n",
    "json_f_name = \"file_sizes.json\"\n",
    "\n",
    "files_dict = {}\n",
    "\n",
    "\n",
    "for file in files_lst:\n",
    "    file_size = os.path.getsize(f\"{PATH}/{file}\")\n",
    "\n",
    "    for unit in [\"B\", \"KB\", \"MB\", \"GB\"]:\n",
    "        if file_size < 1024:\n",
    "            f\"{file_size} {unit}\" \n",
    "        else:\n",
    "            file_size /= 1024\n",
    "    files_dict[file_size] = []\n",
    "    if file_size in files_dict:\n",
    "        files_dict[file_size].append(f\"{PATH}/{file}\")\n",
    "    else:\n",
    "        files_dict[file_size] = f\"{PATH}/{file}\"\n",
    "\n",
    "sorted_files_dict = dict(sorted(files_dict.items(), reverse=True, key=lambda item: item[0]))\n",
    "\n",
    "json_string = json.dumps(sorted_files_dict, indent=len(sorted_files_dict))  \n",
    "\n",
    "fp = os.path.join(PATH, json_f_name)\n",
    "with open(fp, \"w\") as file:\n",
    "    file.write(json_string)\n"
   ]
  }
 ],
 "metadata": {
  "kernelspec": {
   "display_name": "Python 3",
   "language": "python",
   "name": "python3"
  },
  "language_info": {
   "codemirror_mode": {
    "name": "ipython",
    "version": 3
   },
   "file_extension": ".py",
   "mimetype": "text/x-python",
   "name": "python",
   "nbconvert_exporter": "python",
   "pygments_lexer": "ipython3",
   "version": "3.13.3"
  }
 },
 "nbformat": 4,
 "nbformat_minor": 5
}
